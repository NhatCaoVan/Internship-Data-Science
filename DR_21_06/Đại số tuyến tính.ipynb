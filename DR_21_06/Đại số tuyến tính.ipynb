{
 "cells": [
  {
   "cell_type": "code",
   "execution_count": 7,
   "metadata": {},
   "outputs": [
    {
     "name": "stdout",
     "output_type": "stream",
     "text": [
      "diện tích x = 50 --> giá nhà y = a*50+b =  tensor(1200)\n"
     ]
    }
   ],
   "source": [
    "# Số vô hướng (Scalar)\n",
    "# Sử dụng Tensor để tạo một số vô hướng\n",
    "# Phương trình y = 20x + 200\n",
    "### x and y là số vô hướng\n",
    "# Pytorch\n",
    "import torch\n",
    "\n",
    "a = torch.tensor(20)\n",
    "b = torch.tensor(200)\n",
    "print(\"diện tích x = 50 --> giá nhà y = a*50+b = \", a*50+b)\n",
    "\n",
    "# Numpy\n",
    "import numpy as np\n",
    "\n",
    "a = np.array(20)\n",
    "b = np.array(200)\n",
    "print(\"diện tích x = 50 --> giá nhà y = a*50+b = \", a*50+b)"
   ]
  },
  {
   "cell_type": "code",
   "execution_count": 11,
   "metadata": {},
   "outputs": [
    {
     "data": {
      "text/plain": [
       "tensor([1.0000, 2.0000, 2.1000, 2.5000, 3.3000, 4.0000])"
      ]
     },
     "execution_count": 11,
     "metadata": {},
     "output_type": "execute_result"
    }
   ],
   "source": [
    "# Vector\n",
    "x = torch.tensor([1, 2, 2.1, 2.5, 3.3, 4])\n",
    "x"
   ]
  },
  {
   "cell_type": "code",
   "execution_count": 12,
   "metadata": {},
   "outputs": [],
   "source": [
    "# Các thuộc tính của Vector"
   ]
  },
  {
   "cell_type": "code",
   "execution_count": 13,
   "metadata": {},
   "outputs": [
    {
     "name": "stdout",
     "output_type": "stream",
     "text": [
      "length of vector:  torch.Size([6])\n",
      "Vector type: torch.float32\n",
      "sum of vector:  tensor(14.9000)\n",
      "mean of vector:  tensor(2.4833)\n",
      "min of vector:  tensor(1.)\n",
      "max of vector:  tensor(4.)\n"
     ]
    }
   ],
   "source": [
    "# Độ dài\n",
    "print('length of vector: ', x.size()) # or len(x)\n",
    "\n",
    "# Định dạng của vector\n",
    "print('Vector type:', x.dtype)\n",
    "\n",
    "# Tổng của các phần tử \n",
    "print(\"sum of vector: \", x.sum())\n",
    "\n",
    "# Trung bình các phần tử\n",
    "print(\"mean of vector: \", x.mean())\n",
    "\n",
    "# Giá trị nhỏ nhất\n",
    "print(\"min of vector: \", x.min())\n",
    "\n",
    "# Giá trị lớn nhất\n",
    "print(\"max of vector: \", x.max())"
   ]
  },
  {
   "cell_type": "code",
   "execution_count": 14,
   "metadata": {},
   "outputs": [],
   "source": [
    "# Các phép tính trên vector"
   ]
  },
  {
   "cell_type": "code",
   "execution_count": 17,
   "metadata": {},
   "outputs": [
    {
     "name": "stdout",
     "output_type": "stream",
     "text": [
      "x + y:  tensor([2.1000, 4.2000, 2.7000, 3.4000, 3.6000])\n",
      "x - y:  tensor([-0.1000, -0.2000,  0.3000,  0.2000,  0.2000])\n",
      "x * y:  tensor([1.1000, 4.4000, 1.8000, 2.8800, 3.2300])\n"
     ]
    }
   ],
   "source": [
    "x = torch.tensor([1, 2, 1.5, 1.8, 1.9])\n",
    "y = torch.tensor([1.1, 2.2, 1.2, 1.6, 1.7])\n",
    "print(\"x + y: \", x + y)\n",
    "print(\"x - y: \", x - y)\n",
    "print(\"x * y: \", x * y)"
   ]
  },
  {
   "cell_type": "code",
   "execution_count": 18,
   "metadata": {},
   "outputs": [
    {
     "name": "stdout",
     "output_type": "stream",
     "text": [
      "x + 5:  tensor([6.0000, 7.0000, 6.5000, 6.8000, 6.9000])\n",
      "x - 5:  tensor([-4.0000, -3.0000, -3.5000, -3.2000, -3.1000])\n",
      "x * 5:  tensor([ 5.0000, 10.0000,  7.5000,  9.0000,  9.5000])\n"
     ]
    }
   ],
   "source": [
    "x = torch.tensor([1, 2, 1.5, 1.8, 1.9])\n",
    "print(\"x + 5: \", x + 5)\n",
    "print(\"x - 5: \", x - 5)\n",
    "print(\"x * 5: \", x * 5)"
   ]
  },
  {
   "cell_type": "code",
   "execution_count": 19,
   "metadata": {},
   "outputs": [],
   "source": [
    "# MA TRẬN"
   ]
  },
  {
   "cell_type": "code",
   "execution_count": 22,
   "metadata": {},
   "outputs": [
    {
     "name": "stdout",
     "output_type": "stream",
     "text": [
      "tensor([[1, 2, 3],\n",
      "        [3, 2, 1]])\n"
     ]
    },
    {
     "data": {
      "text/plain": [
       "torch.Size([2, 3])"
      ]
     },
     "execution_count": 22,
     "metadata": {},
     "output_type": "execute_result"
    }
   ],
   "source": [
    "# Các thuộc tính của ma trận\n",
    "A = torch.tensor([[1, 2, 3],\n",
    "                 [3, 2, 1]])\n",
    "# shape of matrix A\n",
    "print(A)\n",
    "A.size()"
   ]
  },
  {
   "cell_type": "code",
   "execution_count": 23,
   "metadata": {},
   "outputs": [],
   "source": [
    "# Các phép tính trên Ma trận"
   ]
  },
  {
   "cell_type": "code",
   "execution_count": 29,
   "metadata": {},
   "outputs": [
    {
     "name": "stdout",
     "output_type": "stream",
     "text": [
      "A*B: \n",
      "  tensor([[2, 2, 6],\n",
      "        [3, 6, 0]])\n",
      "A-B: \n",
      " tensor([[-1,  1,  1],\n",
      "        [ 2, -1,  1]])\n",
      "A+B: \n",
      " tensor([[3, 3, 5],\n",
      "        [4, 5, 1]])\n"
     ]
    }
   ],
   "source": [
    "# Hai ma trận có cùng kích thước chúng ta có thể thực hiện các phép cộng, trừ,\n",
    "# tích hadamard (hoặc elementi-wise)\n",
    "\n",
    "# Trên pytorch chúng ta có thể tính tích hadamard của hai ma trận đơn giản như sau:\n",
    "import torch\n",
    "A = torch.tensor([[1, 2, 3], \n",
    "                  [3, 2, 1]])\n",
    "\n",
    "B = torch.tensor([[2, 1, 2], \n",
    "                  [1, 3, 0]])\n",
    "print('A*B: \\n ',A*B)\n",
    "# Tương tự với các phép cộng và trừ\n",
    "print(\"A-B: \\n\", A-B)\n",
    "print(\"A+B: \\n\", A+B)"
   ]
  },
  {
   "cell_type": "code",
   "execution_count": 30,
   "metadata": {},
   "outputs": [],
   "source": [
    "# Index"
   ]
  },
  {
   "cell_type": "code",
   "execution_count": 39,
   "metadata": {},
   "outputs": [
    {
     "data": {
      "text/plain": [
       "tensor([[1, 2],\n",
       "        [3, 2]])"
      ]
     },
     "execution_count": 39,
     "metadata": {},
     "output_type": "execute_result"
    }
   ],
   "source": [
    "import torch\n",
    "A = torch.tensor([[1, 2, 3], \n",
    "                  [3, 2, 1],\n",
    "                  [4, 2, 2]])\n",
    "\n",
    "# Truy cập ma trận con từ 2 dòng đầu tiên và 2 cột đầu tiên.\n",
    "A[:2, :2]\n"
   ]
  },
  {
   "cell_type": "code",
   "execution_count": 38,
   "metadata": {},
   "outputs": [
    {
     "data": {
      "text/plain": [
       "tensor([[1, 2, 3],\n",
       "        [4, 2, 2]])"
      ]
     },
     "execution_count": 38,
     "metadata": {},
     "output_type": "execute_result"
    }
   ],
   "source": [
    "# Truy cập ma trận có các dòng chẵn\n",
    "A[::2, :]"
   ]
  },
  {
   "cell_type": "code",
   "execution_count": 44,
   "metadata": {},
   "outputs": [
    {
     "data": {
      "text/plain": [
       "tensor([[1, 2, 3],\n",
       "        [4, 2, 2]])"
      ]
     },
     "execution_count": 44,
     "metadata": {},
     "output_type": "execute_result"
    }
   ],
   "source": [
    "import torch\n",
    "A = torch.tensor([[1, 2, 3], \n",
    "                  [3, 2, 1],\n",
    "                  [4, 2, 2]])\n",
    "\n",
    "# Truy cập một index cụ thể , ví dụ dòng 0, 2 của ma trận\n",
    "A.index_select(0, torch.tensor([0, 2]))\n",
    "# Trong công thức trên 0 là chiều mà ta sẽ lấy, tensor([0, 2]) là các index ta sẽ lấy từ chiều 0."
   ]
  },
  {
   "cell_type": "code",
   "execution_count": 45,
   "metadata": {},
   "outputs": [],
   "source": [
    "# Tensor"
   ]
  },
  {
   "cell_type": "code",
   "execution_count": 54,
   "metadata": {},
   "outputs": [
    {
     "name": "stdout",
     "output_type": "stream",
     "text": [
      "shape of A:  torch.Size([2, 2, 3])\n",
      "total dim:  3\n",
      "dtype:  torch.int64\n"
     ]
    }
   ],
   "source": [
    "A = torch.tensor([[[1, 2, 3], \n",
    "                  [3, 2, 1]],\n",
    "                  [[2, 1, 2], \n",
    "                  [1, 3, 0]]])\n",
    "\n",
    "# Kích thước của tensor\n",
    "print(\"shape of A: \" , A.size())\n",
    "\n",
    "# Số chiều \n",
    "print(\"total dim: \", A.ndim)\n",
    "\n",
    "# Định dạng dữ liệu\n",
    "print(\"dtype: \", A.dtype)"
   ]
  },
  {
   "cell_type": "code",
   "execution_count": 55,
   "metadata": {},
   "outputs": [],
   "source": [
    "# Các phép tính trên tensor"
   ]
  },
  {
   "cell_type": "code",
   "execution_count": 59,
   "metadata": {},
   "outputs": [
    {
     "data": {
      "text/plain": [
       "tensor([[[-2.7581, -3.0571],\n",
       "         [-1.5879, -2.1221],\n",
       "         [ 2.0965,  2.3269]],\n",
       "\n",
       "        [[-0.2220, -4.7969],\n",
       "         [-0.0219, -0.9093],\n",
       "         [-2.4037,  2.2392]]])"
      ]
     },
     "execution_count": 59,
     "metadata": {},
     "output_type": "execute_result"
    }
   ],
   "source": [
    "import torch\n",
    "\n",
    "A = torch.randn([2, 3, 4])\n",
    "B = torch.randn([2, 4, 2])\n",
    "\n",
    "# Tích giữa 2 tensor\n",
    "(A@B)"
   ]
  },
  {
   "cell_type": "code",
   "execution_count": 58,
   "metadata": {},
   "outputs": [
    {
     "data": {
      "text/plain": [
       "tensor([[[-0.7530,  0.2640, -0.0887,  0.0492],\n",
       "         [ 0.5080, -1.7922,  0.1810, -0.1645],\n",
       "         [-0.3252, -0.4344,  0.9739,  1.3017]],\n",
       "\n",
       "        [[-0.3580,  0.1178,  0.4047,  1.2828],\n",
       "         [ 1.0662,  0.3550, -0.1652, -0.9828],\n",
       "         [-0.3565, -0.2496,  0.5135,  0.2065]]])"
      ]
     },
     "execution_count": 58,
     "metadata": {},
     "output_type": "execute_result"
    }
   ],
   "source": [
    "# Ngoài ra chúng ta có thể tính tích hadamard giữa 2 tensors A và B\n",
    "import torch\n",
    "\n",
    "A = torch.randn([2, 3, 4])\n",
    "B = torch.randn([2, 3, 4])\n",
    "\n",
    "# Tích hadamard giữa 2 tensor\n",
    "(A*B)"
   ]
  },
  {
   "cell_type": "code",
   "execution_count": 64,
   "metadata": {},
   "outputs": [
    {
     "data": {
      "text/plain": [
       "torch.Size([2, 3, 4])"
      ]
     },
     "execution_count": 64,
     "metadata": {},
     "output_type": "execute_result"
    }
   ],
   "source": [
    "# Phép cộng\n",
    "import torch\n",
    "\n",
    "A = torch.randn([2, 3, 4])\n",
    "B = torch.randn([2, 3, 4])\n",
    "(A+B).size()\n",
    "# Phép trừ\n",
    "(A-B).size()"
   ]
  },
  {
   "cell_type": "code",
   "execution_count": 70,
   "metadata": {},
   "outputs": [
    {
     "name": "stdout",
     "output_type": "stream",
     "text": [
      "tensor([[[-0.7842, -1.6750, -0.3562,  0.9552],\n",
      "         [-0.6934,  1.2724,  0.5250,  0.2856],\n",
      "         [-0.2017,  1.0379,  0.1112,  0.6586]],\n",
      "\n",
      "        [[-0.7521, -0.7426, -0.3627,  0.6057],\n",
      "         [-0.2568,  0.9903, -1.5363, -1.1700],\n",
      "         [-0.1931, -0.7917,  0.1837,  1.7721]]])\n"
     ]
    },
    {
     "data": {
      "text/plain": [
       "tensor([[[-0.7842, -1.6750, -0.3562,  0.9552],\n",
       "         [-0.6934,  1.2724,  0.5250,  0.2856],\n",
       "         [-0.2017,  1.0379,  0.1112,  0.6586]]])"
      ]
     },
     "execution_count": 70,
     "metadata": {},
     "output_type": "execute_result"
    }
   ],
   "source": [
    "# Index\n",
    "import torch\n",
    "\n",
    "# Khởi tạo ma trận A kích thước m, n, p = 2, 3, 4\n",
    "A = torch.randn([2, 3, 4])\n",
    "print(A)\n",
    "# Truy cập ma trận đầu tiên \n",
    "A[:1, :, :]"
   ]
  },
  {
   "cell_type": "code",
   "execution_count": 71,
   "metadata": {},
   "outputs": [
    {
     "data": {
      "text/plain": [
       "tensor([[-0.6934,  1.2724,  0.5250,  0.2856],\n",
       "        [-0.2017,  1.0379,  0.1112,  0.6586]])"
      ]
     },
     "execution_count": 71,
     "metadata": {},
     "output_type": "execute_result"
    }
   ],
   "source": [
    "# Truy cập ma trận đầu tiên và chỉ lấy dòng từ 1 tới 3\n",
    "A[0][1:3, :]"
   ]
  },
  {
   "cell_type": "code",
   "execution_count": 75,
   "metadata": {},
   "outputs": [
    {
     "data": {
      "text/plain": [
       "tensor([[0.9552, 0.2856]])"
      ]
     },
     "execution_count": 75,
     "metadata": {},
     "output_type": "execute_result"
    }
   ],
   "source": [
    "# Truy cập tương ứng với các chiều m, n, p lần lượt index đầu tiên, 2 index đầu tiên, và index thứ 3.\n",
    "A[:1, :2, 3]"
   ]
  },
  {
   "cell_type": "code",
   "execution_count": 76,
   "metadata": {},
   "outputs": [],
   "source": [
    "# Tích giữa ma trận với vector"
   ]
  },
  {
   "cell_type": "code",
   "execution_count": 77,
   "metadata": {},
   "outputs": [],
   "source": [
    "# Giả sử bạn đã biết được các biến đầu vào gồm: diện tích và số phòng ngủ như các dòng của ma trận bên dưới:\n",
    "import torch\n",
    "\n",
    "X = torch.tensor([[100, 120, 80, 90, 105, 95], \n",
    "                  [2, 3, 2, 2, 3, 2]])"
   ]
  },
  {
   "cell_type": "code",
   "execution_count": 78,
   "metadata": {},
   "outputs": [],
   "source": [
    "# Và hệ số hồi qui tương ứng với với chúng lần lượt là w=(10,100).\n",
    "# Khi đó giá nhà có thể được ước lượng bằng tích y=X⊤w"
   ]
  },
  {
   "cell_type": "code",
   "execution_count": 79,
   "metadata": {},
   "outputs": [
    {
     "data": {
      "text/plain": [
       "tensor([[1200],\n",
       "        [1500],\n",
       "        [1000],\n",
       "        [1100],\n",
       "        [1350],\n",
       "        [1150]])"
      ]
     },
     "execution_count": 79,
     "metadata": {},
     "output_type": "execute_result"
    }
   ],
   "source": [
    "w = torch.tensor([[10], [100]])\n",
    "y = X.T@w\n",
    "y"
   ]
  },
  {
   "cell_type": "code",
   "execution_count": 80,
   "metadata": {},
   "outputs": [],
   "source": [
    "# Tích vô hướng"
   ]
  },
  {
   "cell_type": "code",
   "execution_count": 81,
   "metadata": {},
   "outputs": [
    {
     "data": {
      "text/plain": [
       "tensor(20)"
      ]
     },
     "execution_count": 81,
     "metadata": {},
     "output_type": "execute_result"
    }
   ],
   "source": [
    "import torch\n",
    "\n",
    "x = torch.tensor([1, 2, 3])\n",
    "y = torch.tensor([2, 3, 4])\n",
    "x.dot(y)"
   ]
  },
  {
   "cell_type": "code",
   "execution_count": 82,
   "metadata": {},
   "outputs": [],
   "source": [
    "# Khái niệm chuẩn"
   ]
  },
  {
   "cell_type": "code",
   "execution_count": null,
   "metadata": {},
   "outputs": [],
   "source": [
    "# Chưa hiểu lắm, học lại sau"
   ]
  }
 ],
 "metadata": {
  "kernelspec": {
   "display_name": "Python 3",
   "language": "python",
   "name": "python3"
  },
  "language_info": {
   "codemirror_mode": {
    "name": "ipython",
    "version": 3
   },
   "file_extension": ".py",
   "mimetype": "text/x-python",
   "name": "python",
   "nbconvert_exporter": "python",
   "pygments_lexer": "ipython3",
   "version": "3.8.5"
  }
 },
 "nbformat": 4,
 "nbformat_minor": 4
}
